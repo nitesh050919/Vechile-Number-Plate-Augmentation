{
 "cells": [
  {
   "cell_type": "markdown",
   "id": "cda1af8c",
   "metadata": {},
   "source": [
    "### Importing Libraries  "
   ]
  },
  {
   "cell_type": "code",
   "execution_count": 2,
   "id": "c84c240e",
   "metadata": {},
   "outputs": [],
   "source": [
    "from keras.preprocessing.image import ImageDataGenerator\n",
    "from skimage import io\n",
    "import tensorflow as tf \n",
    "import keras\n",
    "import numpy as np\n",
    "import os\n",
    "from PIL import Image\n",
    "import glob\n"
   ]
  },
  {
   "cell_type": "markdown",
   "id": "344e0874",
   "metadata": {},
   "source": [
    "### Image Augmentation for generating more data  "
   ]
  },
  {
   "cell_type": "code",
   "execution_count": 92,
   "id": "d0f8d7d0",
   "metadata": {},
   "outputs": [],
   "source": [
    "datagen = ImageDataGenerator(\n",
    "    rescale=1./255,\n",
    "    rotation_range=40,\n",
    "    fill_mode='nearest',\n",
    "    width_shift_range=0.2,\n",
    "    height_shift_range=0.2,\n",
    "    brightness_range=[0.4,1.5],\n",
    "    shear_range=0.2,\n",
    "    zoom_range=0.2,\n",
    "    horizontal_flip=True,vertical_flip=True)\n",
    "file_list = glob.glob(r'C:\\Users\\nites\\Downloads\\Number Plates\\*\\*')\n",
    "#images= []\n",
    "for path in file_list:\n",
    "    img = keras.utils.load_img(path)\n",
    "    x = tf.keras.preprocessing.image.img_to_array(img)\n",
    "    x = x.reshape((1,) + x.shape)\n",
    "    i = 0\n",
    "    for batch in datagen.flow(x, batch_size = 1, save_to_dir = r'C:\\Users\\nites\\Downloads\\preview', save_prefix = \"Number Plate\", save_format = \"jpg\"):\n",
    "        i +=1\n",
    "        if i>30:\n",
    "            break\n",
    "\n",
    "\n",
    "\n",
    "\n"
   ]
  },
  {
   "cell_type": "code",
   "execution_count": null,
   "id": "c4ab57e5",
   "metadata": {},
   "outputs": [],
   "source": []
  }
 ],
 "metadata": {
  "kernelspec": {
   "display_name": "Python 3 (ipykernel)",
   "language": "python",
   "name": "python3"
  },
  "language_info": {
   "codemirror_mode": {
    "name": "ipython",
    "version": 3
   },
   "file_extension": ".py",
   "mimetype": "text/x-python",
   "name": "python",
   "nbconvert_exporter": "python",
   "pygments_lexer": "ipython3",
   "version": "3.9.12"
  }
 },
 "nbformat": 4,
 "nbformat_minor": 5
}
